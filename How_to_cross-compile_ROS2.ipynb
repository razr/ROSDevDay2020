{
 "cells": [
  {
   "cell_type": "markdown",
   "metadata": {},
   "source": [
    "![](images/logos/rosdevday.jpg)"
   ]
  },
  {
   "cell_type": "markdown",
   "metadata": {},
   "source": [
    "# How to cross-compile ROS2 distro by taken VxWorks RTOS as an example"
   ]
  },
  {
   "cell_type": "markdown",
   "metadata": {},
   "source": [
    "Even Open Robotics provides pre-built ROS 2 packages for multiple platforms, very often target software and hardware differ from the default one and a cross-compilation becomes a mandatory step:\n",
    "* A different from Linux operating system e.g. VxWorks, QNX, eSol, etc. is deployed on the target hardware\n",
    "* Target hardware (e.g. ARM aarch64) is different from the development host (e.g. Intel x86_64).\n",
    "* Tuning target software for the footprint and performance (e.g. setting -mcpu=cortex-a72 -mfpu=neon-fp-armv8 when building for Raspberry Pi4).\n",
    "* Separating ROS2 host tools (e.g. RViz) from the ROS2 target binaries.\n",
    "\n",
    "This session will explain in detail of why cross-compilation is needed, and how to cross-compile ROS2 distro by taken VxWorks RTOS as an example. Step by step instructions will be given of how to setup a cross-compile development environment, to build and to deploy ROS2 binaries on the target. As a target QEMU Intel will be used on the Desktop PC."
   ]
  },
  {
   "cell_type": "markdown",
   "metadata": {},
   "source": [
    "## WHO AM I"
   ]
  },
  {
   "cell_type": "markdown",
   "metadata": {},
   "source": [
    "<img align=\"left\" src=\"images/headshot.jpg\" width=\"200\">\n",
    "<center><strong>Andrei Kholodnyi</strong> | <strong>Principal Technologist</strong> | <strong>Technology Office</strong> | <strong>Wind River Systems</strong></center>\n",
    "\n",
    "### <center>Focus </center>\n",
    "\n",
    "<center> *  ROS2 Mobile Robotics, Dependability</center>\n",
    "<center> *  Industrial, TSN, intelligent edge</center>\n",
    "<center> *  ROS2 Open Source Community (real-time WG co-chair)</center>\n",
    "<center> *  Products, Solutions; Partnerships & University Programs</center>"
   ]
  },
  {
   "cell_type": "markdown",
   "metadata": {},
   "source": [
    "## Wind River software runs all these robots"
   ]
  },
  {
   "cell_type": "markdown",
   "metadata": {},
   "source": [
    "![Wind River Software runs inside these robots](images/robots.jpg)"
   ]
  },
  {
   "cell_type": "markdown",
   "metadata": {},
   "source": [
    "## What is VxWorks RTOS"
   ]
  },
  {
   "cell_type": "markdown",
   "metadata": {},
   "source": [
    "<img align=\"left\" src=\"images/vxworks.jpg\" width=\"400\">\n",
    "\n",
    "<font size=\"5\"> *  32/64 bits on ARM, Intel, MIPS, PowerPC, RISC-V</font>\n",
    "\n",
    "<font size=\"5\"> *  Proprietary real-time OS, POSIX PSE52</font>\n",
    "\n",
    "<font size=\"5\"> *  Kernel/user space separation, user space optional</font>\n",
    "\n",
    "<font size=\"5\"> *  C/C++11/14, possible to develop kernel C++ modules and user apps</font>\n",
    "    \n",
    "<font size=\"5\"> *  Safety certifiable: DO-178, ISO 26262, IEC 61508</font>\n",
    "\n",
    "<font size=\"5\"> *  Toolchain LLVM 8, Dinkumware C/C++ libs</font>\n",
    "\n",
    "<font size=\"5\"> *  Proprietary build system</font>\n",
    "\n",
    "<font size=\"5\"> *  Kernel shell</font>\n",
    "\n",
    "<font size=\"5\"> *  Eclipse-based IDE, Windows/Linux hosts</font>"
   ]
  },
  {
   "cell_type": "markdown",
   "metadata": {},
   "source": [
    "## What is a native compilation?\n",
    "\n",
    "Let us look at this example of the compilation on the Intel PC running Linux Ubuntu. All artifacts (binaries, libs..) produced during a ROS2 build are supposed to run on the same platform.\n",
    "The same can be done on RaspberryPi4 as well even it is a different hardware architecture."
   ]
  },
  {
   "cell_type": "markdown",
   "metadata": {},
   "source": [
    "![](images/native-compilation.jpg)"
   ]
  },
  {
   "cell_type": "markdown",
   "metadata": {},
   "source": [
    "## What is a cross compilation?\n",
    "\n",
    "What happens if we would substitute a desktop PC with an embedded target even with the same HW architecture (Intel x86_64) and would run a different OS, e.g. VxWorks RTOS.\n",
    "As we can see many emebedded RTOS does not have a native development environment. They use host/target paradigm where a development happens on the host computer running Desktop OS e.g. Windows or Linux. And the development artifacts are deployed to the target.\n",
    "\n",
    "Cross-compilation is a process of creating executable artifacts for a platform other than the one on which the cross-compilation toolchain is running. A cross-compilation toolchain is a set of chained tools used for this process "
   ]
  },
  {
   "cell_type": "markdown",
   "metadata": {},
   "source": [
    "![](images/cross-compilation.jpg)"
   ]
  },
  {
   "cell_type": "markdown",
   "metadata": {},
   "source": [
    "## Why to cross compile"
   ]
  },
  {
   "cell_type": "markdown",
   "metadata": {},
   "source": [
    " * Different HW arch on the target: Intel, ARM, PowerPC, RISC-V, MIPS, SPARC\n",
    " * Different Operating systems on the target: VxWorks, QNX, eSol, FreeRTOS, Zephyr\n",
    "   * it is not possible to compile natively even on Linux Intel\n",
    "   * User space incompatibility with the same CPU instruction set\n",
    " * Tuning your target system for performance, footprint etc."
   ]
  },
  {
   "cell_type": "markdown",
   "metadata": {},
   "source": [
    "## How to cross compile"
   ]
  },
  {
   "cell_type": "markdown",
   "metadata": {},
   "source": [
    " It is very similar to the native compilation. For that you need:\n",
    " \n",
    " * Cross-compile toolchain (OS and hardware arch specific)\n",
    "   * How to create a toolchain https://wiki.osdev.org/OS_Specific_Toolchain\n",
    "   * Prebuilt ARM toolchain: ```sudo apt install gcc-arm-linux-gnueabihf```\n",
    " * Emulator – QEMU to run cross-compiled binaries\n",
    "   * ```sudo apt install qemu```\n",
    " * Where to get cross-compiler tools?\n",
    "   * Ubuntu repos\n",
    "   * Directly by the vendors (depending on OS and HW Ach)\n",
    "   * VxWorks SDK https://labs.windriver.com/downloads/wrsdk.html\n",
    "\n",
    "I'll take **VxWorks SDK for IA - QEMU (x86-64)** as an example of cross-compilation toolchain"
   ]
  },
  {
   "cell_type": "markdown",
   "metadata": {},
   "source": [
    "## A native compilation – Hello, OS and hardware arch\n",
    "\n",
    "Let us try first to compile a \"Hello, OS and machine\" code sample"
   ]
  },
  {
   "cell_type": "code",
   "execution_count": 2,
   "metadata": {},
   "outputs": [
    {
     "name": "stdout",
     "output_type": "stream",
     "text": [
      "#include <stdio.h>\n",
      "#include <sys/utsname.h>\n",
      "\n",
      "int main() {\n",
      "\tstruct utsname data;\n",
      "\n",
      "\t/* get name and information about current kernel */\n",
      "\t/* sysname[]; - Operating system name (e.g., \"Linux\") */\n",
      "\t/* machine[]; - Hardware identifier */\n",
      "\n",
      "\tuname(&data);\n",
      "\tprintf(\"Hello, %s %s\\n\", data.sysname, data.machine);\n",
      "\treturn 0;\n",
      "}\n"
     ]
    }
   ],
   "source": [
    "cd examples\n",
    "cat hello.c"
   ]
  },
  {
   "cell_type": "markdown",
   "metadata": {},
   "source": [
    "To do so we'll use gcc which is located"
   ]
  },
  {
   "cell_type": "code",
   "execution_count": 3,
   "metadata": {},
   "outputs": [
    {
     "name": "stdout",
     "output_type": "stream",
     "text": [
      "/usr/bin/gcc\n"
     ]
    }
   ],
   "source": [
    "which gcc"
   ]
  },
  {
   "cell_type": "markdown",
   "metadata": {},
   "source": [
    "How do we know what binaries it will produce? Let us print multiarch"
   ]
  },
  {
   "cell_type": "code",
   "execution_count": 4,
   "metadata": {},
   "outputs": [
    {
     "name": "stdout",
     "output_type": "stream",
     "text": [
      "x86_64-linux-gnu\n"
     ]
    }
   ],
   "source": [
    "gcc -print-multiarch"
   ]
  },
  {
   "cell_type": "markdown",
   "metadata": {},
   "source": [
    "x86_64-linux-gnu - this version of gcc produces binaries for x86_64 Linux. You can look here https://wiki.debian.org/Multiarch/Tuples for other tuples"
   ]
  },
  {
   "cell_type": "code",
   "execution_count": 5,
   "metadata": {},
   "outputs": [
    {
     "name": "stdout",
     "output_type": "stream",
     "text": [
      "Hello, Linux x86_64\n"
     ]
    }
   ],
   "source": [
    "gcc -Wall hello.c -o hello -static\n",
    "./hello"
   ]
  },
  {
   "cell_type": "markdown",
   "metadata": {},
   "source": [
    "We see that it runs on Linux x86_64. Let us also look what binary format it produces"
   ]
  },
  {
   "cell_type": "code",
   "execution_count": 6,
   "metadata": {},
   "outputs": [
    {
     "name": "stdout",
     "output_type": "stream",
     "text": [
      "hello: ELF 64-bit LSB executable, x86-64, version 1 (GNU/Linux), statically linked, BuildID[sha1]=e46d14d01d5ce7f9de399925757dc31afa564e58, for GNU/Linux 3.2.0, not stripped\n"
     ]
    }
   ],
   "source": [
    "file hello"
   ]
  },
  {
   "cell_type": "markdown",
   "metadata": {},
   "source": [
    "file shows that gcc has produced x86-64 Linux binary"
   ]
  },
  {
   "cell_type": "markdown",
   "metadata": {},
   "source": [
    "## A cross compilation – Hello, OS and HW Arch\n",
    "\n",
    "No we do the same but with the cross-toolchain"
   ]
  },
  {
   "cell_type": "markdown",
   "metadata": {},
   "source": [
    "We first need to setup a cross-compilation environment. Since we didn't install VxWorks SDK into the / folder we need to setup some environment variables."
   ]
  },
  {
   "cell_type": "code",
   "execution_count": 7,
   "metadata": {},
   "outputs": [
    {
     "name": "stdout",
     "output_type": "stream",
     "text": [
      "chmod: missing operand after ‘+x’\n",
      "Try 'chmod --help' for more information.\n"
     ]
    }
   ],
   "source": [
    "source $HOME/wrsdk-vxworks7-qemu/toolkit/wind_sdk_env.linux"
   ]
  },
  {
   "cell_type": "markdown",
   "metadata": {},
   "source": [
    "Let us see what we set. "
   ]
  },
  {
   "cell_type": "code",
   "execution_count": 9,
   "metadata": {},
   "outputs": [
    {
     "name": "stdout",
     "output_type": "stream",
     "text": [
      "WIND_SDK_TOOLKIT_BIN=/home/akholodn/Downloads/\u001b[01;31m\u001b[Kwr\u001b[m\u001b[Ksdk-vxworks7-qemu/toolkit/bin\n",
      "WIND_SDK_HOST_TOOLS=/home/akholodn/Downloads/\u001b[01;31m\u001b[Kwr\u001b[m\u001b[Ksdk-vxworks7-qemu/toolkit/host_tools\n",
      "WIND_SDK_COMPILER_PATH=/home/akholodn/Downloads/\u001b[01;31m\u001b[Kwr\u001b[m\u001b[Ksdk-vxworks7-qemu/toolkit/compilers/llvm-9.0.1.1/LINUX64/bin\n",
      "WIND_SDK_TOOLKIT_LICENSE=/home/akholodn/Downloads/\u001b[01;31m\u001b[Kwr\u001b[m\u001b[Ksdk-vxworks7-qemu/toolkit/license\n",
      "CPP=\u001b[01;31m\u001b[Kwr\u001b[m\u001b[K-c++\n",
      "WIND_SDK_WRDBG_TOOLS=/home/akholodn/Downloads/\u001b[01;31m\u001b[Kwr\u001b[m\u001b[Ksdk-vxworks7-qemu/toolkit/\u001b[01;31m\u001b[Kwr\u001b[m\u001b[Kdbg_tools\n",
      "MANPATH=/home/akholodn/Downloads/\u001b[01;31m\u001b[Kwr\u001b[m\u001b[Ksdk-vxworks7-qemu/docs/vxworks-7/man\n",
      "CXX=\u001b[01;31m\u001b[Kwr\u001b[m\u001b[K-c++\n",
      "WIND_PYTHON_PATH=/home/akholodn/Downloads/\u001b[01;31m\u001b[Kwr\u001b[m\u001b[Ksdk-vxworks7-qemu/toolkit/\u001b[01;31m\u001b[Kwr\u001b[m\u001b[Kdbg_tools/lib/python\n",
      "WIND_SDK_HOME=/home/akholodn/Downloads/\u001b[01;31m\u001b[Kwr\u001b[m\u001b[Ksdk-vxworks7-qemu\n",
      "WRSD_LICENSE_FILE=/home/akholodn/Downloads/\u001b[01;31m\u001b[Kwr\u001b[m\u001b[Ksdk-vxworks7-qemu/toolkit/license\n",
      "WIND_SDK_TOOLKIT_COMPILERS=/home/akholodn/Downloads/\u001b[01;31m\u001b[Kwr\u001b[m\u001b[Ksdk-vxworks7-qemu/toolkit/compilers\n",
      "WIND_SDK_LLVM_PATH=/home/akholodn/Downloads/\u001b[01;31m\u001b[Kwr\u001b[m\u001b[Ksdk-vxworks7-qemu/toolkit/compilers/llvm-9.0.1.1\n",
      "AR=\u001b[01;31m\u001b[Kwr\u001b[m\u001b[K-ar\n",
      "ARCH=\u001b[01;31m\u001b[Kwr\u001b[m\u001b[K\n",
      "LD_LIBRARY_PATH=/home/akholodn/Downloads/\u001b[01;31m\u001b[Kwr\u001b[m\u001b[Ksdk-vxworks7-qemu/toolkit/host_tools/x86_64-linux/lib:/home/akholodn/Downloads/\u001b[01;31m\u001b[Kwr\u001b[m\u001b[Ksdk-vxworks7-qemu/toolkit/host_tools/x86-linux2/lib:/home/akholodn/Downloads/\u001b[01;31m\u001b[Kwr\u001b[m\u001b[Ksdk-vxworks7-qemu/toolkit/\u001b[01;31m\u001b[Kwr\u001b[m\u001b[Kdbg_tools/lib:/home/akholodn/Downloads/\u001b[01;31m\u001b[Kwr\u001b[m\u001b[Ksdk-vxworks7-qemu/toolkit/license/lmapi-5/x86-linux2/lib:\n",
      "WIND_SDK_TOOLKIT=/home/akholodn/Downloads/\u001b[01;31m\u001b[Kwr\u001b[m\u001b[Ksdk-vxworks7-qemu/toolkit\n",
      "WIND_SDK_TOOLS=/home/akholodn/Downloads/\u001b[01;31m\u001b[Kwr\u001b[m\u001b[Ksdk-vxworks7-qemu/toolkit/sdk_tools\n",
      "WIND_CC_SYSROOT=/home/akholodn/Downloads/\u001b[01;31m\u001b[Kwr\u001b[m\u001b[Ksdk-vxworks7-qemu/toolkit/include\n",
      "WIND_SDK_TOOLKIT_INCLUDE=/home/akholodn/Downloads/\u001b[01;31m\u001b[Kwr\u001b[m\u001b[Ksdk-vxworks7-qemu/toolkit/include\n",
      "PATH=/home/akholodn/Downloads/\u001b[01;31m\u001b[Kwr\u001b[m\u001b[Ksdk-vxworks7-qemu/toolkit/bin:/home/akholodn/Downloads/\u001b[01;31m\u001b[Kwr\u001b[m\u001b[Ksdk-vxworks7-qemu/toolkit/host_tools/x86_64-linux/bin:/home/akholodn/Downloads/\u001b[01;31m\u001b[Kwr\u001b[m\u001b[Ksdk-vxworks7-qemu/toolkit/host_tools/x86-linux2/bin:/home/akholodn/Downloads/\u001b[01;31m\u001b[Kwr\u001b[m\u001b[Ksdk-vxworks7-qemu/toolkit/\u001b[01;31m\u001b[Kwr\u001b[m\u001b[Kdbg_tools/bin:/home/akholodn/Downloads/\u001b[01;31m\u001b[Kwr\u001b[m\u001b[Ksdk-vxworks7-qemu/toolkit/sdk_tools/qemu:/home/akholodn/Downloads/\u001b[01;31m\u001b[Kwr\u001b[m\u001b[Ksdk-vxworks7-qemu/toolkit/compilers/llvm-9.0.1.1/LINUX64/bin::/home/akholodn/.local/bin:/usr/local/sbin:/usr/local/bin:/usr/sbin:/usr/bin:/sbin:/bin:/usr/games:/usr/local/games:/snap/bin\n",
      "CC=\u001b[01;31m\u001b[Kwr\u001b[m\u001b[K-cc\n",
      "WIND_TOOLS=/home/akholodn/Downloads/\u001b[01;31m\u001b[Kwr\u001b[m\u001b[Ksdk-vxworks7-qemu/toolkit/\u001b[01;31m\u001b[Kwr\u001b[m\u001b[Kdbg_tools\n"
     ]
    }
   ],
   "source": [
    "env | grep wr"
   ]
  },
  {
   "cell_type": "markdown",
   "metadata": {},
   "source": [
    "It set for us $CC, $LD_LIBRARY_PATH and $PATH\n",
    "```bash\n",
    "CC=wr-cc\n",
    "LD_LIBRARY_PATH=/home/user/wrsdk-vxworks7-qemu/toolkit/host_tools/x86_64-linux/lib:/home/user/wrsdk-vxworks7-qemu/toolkit/host_tools/x86-linux2/lib:/home/user/wrsdk-vxworks7-qemu/toolkit/wrdbg_tools/lib:/home/user/wrsdk-vxworks7-qemu/toolkit/license/lmapi-5/x86-linux2/lib:\n",
    "PATH=/home/user/wrsdk-vxworks7-qemu/toolkit/bin:/home/user/wrsdk-vxworks7-qemu/toolkit/host_tools/x86_64-linux/bin:/home/user/wrsdk-vxworks7-qemu/toolkit/host_tools/x86-linux2/bin:/home/user/wrsdk-vxworks7-qemu/toolkit/wrdbg_tools/bin:/home/user/wrsdk-vxworks7-qemu/toolkit/sdk_tools/qemu:/home/user/wrsdk-vxworks7-qemu/toolkit/compilers/llvm-9.0.1.1/LINUX64/bin::/home/user/.local/bin:/usr/local/\n",
    "```"
   ]
  },
  {
   "cell_type": "markdown",
   "metadata": {},
   "source": [
    "We'll compile now the same example with a cross-compiler which is defined by $CC, let us check where it is located"
   ]
  },
  {
   "cell_type": "code",
   "execution_count": 10,
   "metadata": {},
   "outputs": [
    {
     "name": "stdout",
     "output_type": "stream",
     "text": [
      "/home/akholodn/Downloads/wrsdk-vxworks7-qemu/toolkit/host_tools/x86_64-linux/bin/wr-cc\n"
     ]
    }
   ],
   "source": [
    "which $CC"
   ]
  },
  {
   "cell_type": "markdown",
   "metadata": {},
   "source": [
    "and what binaries it will produce"
   ]
  },
  {
   "cell_type": "code",
   "execution_count": 11,
   "metadata": {},
   "outputs": [
    {
     "name": "stdout",
     "output_type": "stream",
     "text": [
      "x86_64\n"
     ]
    }
   ],
   "source": [
    "$CC -print-target-triple -c dummy.c"
   ]
  },
  {
   "cell_type": "markdown",
   "metadata": {},
   "source": [
    "Well, we see that we'll get x86_64 binaries out of this compiler but what about the OS type? Why it does not print VxWorks as an OS?"
   ]
  },
  {
   "cell_type": "markdown",
   "metadata": {},
   "source": [
    "There are just few OS ABIs defined by ELF format, see e.g. https://refspecs.linuxfoundation.org/elf/gabi4+/ch4.eheader.html\n",
    "\n",
    "```bash\n",
    "Name\t          Value\tMeaning\n",
    "ELFOSABI_NONE        0\tNo extensions or unspecified\n",
    "ELFOSABI_HPUX        1\tHewlett-Packard HP-UX\n",
    "ELFOSABI_NETBSD      2\tNetBSD\n",
    "ELFOSABI_LINUX       3\tLinux\n",
    "ELFOSABI_SOLARIS     6\tSun Solaris\n",
    "ELFOSABI_AIX         7\tAIX\n",
    "ELFOSABI_IRIX        8\tIRIX\n",
    "ELFOSABI_FREEBSD     9\tFreeBSD\n",
    "ELFOSABI_TRU64      10\tCompaq TRU64 UNIX\n",
    "ELFOSABI_MODESTO    11\tNovell Modesto\n",
    "ELFOSABI_OPENBSD    12\tOpen BSD\n",
    "ELFOSABI_OPENVMS    13\tOpen VMS\n",
    "ELFOSABI_NSK        14\tHewlett-Packard Non-Stop Kernel\n",
    " \t            64-255\tArchitecture-specific value range\n",
    "```"
   ]
  },
  {
   "cell_type": "code",
   "execution_count": 12,
   "metadata": {},
   "outputs": [
    {
     "name": "stdout",
     "output_type": "stream",
     "text": [
      "Segmentation fault (core dumped)\n"
     ]
    },
    {
     "ename": "",
     "evalue": "139",
     "output_type": "error",
     "traceback": []
    }
   ],
   "source": [
    "$CC -Wall hello.c -o hello -static\n",
    "./hello"
   ]
  },
  {
   "cell_type": "markdown",
   "metadata": {},
   "source": [
    "we built it, run it and it produced a core dump, even it is the same HW architecture. Why is that? Let us see what binaries it has produced"
   ]
  },
  {
   "cell_type": "code",
   "execution_count": 13,
   "metadata": {},
   "outputs": [
    {
     "name": "stdout",
     "output_type": "stream",
     "text": [
      "hello: ELF 64-bit LSB executable, x86-64, version 1 (SYSV), statically linked, with debug_info, not stripped\n"
     ]
    }
   ],
   "source": [
    "file hello"
   ]
  },
  {
   "cell_type": "markdown",
   "metadata": {},
   "source": [
    "**SYSV** - means ELFOSABI_NONE (No extensions or unspecified). How can I figure out it a cross-compiled VxWorks binary? We can try to search for the Wind River specific symbols. :("
   ]
  },
  {
   "cell_type": "code",
   "execution_count": 14,
   "metadata": {},
   "outputs": [
    {
     "name": "stdout",
     "output_type": "stream",
     "text": [
      "0000000000233288 r __\u001b[01;31m\u001b[Kwrs\u001b[m\u001b[K_eh_frame_end\n",
      "000000000022c370 r __\u001b[01;31m\u001b[Kwrs\u001b[m\u001b[K_eh_frame_hdr_end\n",
      "000000000022c370 r __\u001b[01;31m\u001b[Kwrs\u001b[m\u001b[K_eh_frame_hdr_start\n",
      "000000000022c370 r __\u001b[01;31m\u001b[Kwrs\u001b[m\u001b[K_eh_frame_start\n",
      "0000000000200000 A __\u001b[01;31m\u001b[Kwrs\u001b[m\u001b[K_rtp_base\n",
      "0000000000000008 A ___\u001b[01;31m\u001b[Kwrs\u001b[m\u001b[K_rtp_tls_data_align\n",
      "0000000000000008 A __\u001b[01;31m\u001b[Kwrs\u001b[m\u001b[K_rtp_tls_data_align\n",
      "0000000000000008 A ___\u001b[01;31m\u001b[Kwrs\u001b[m\u001b[K_rtp_tls_data_filesize\n",
      "0000000000000008 A __\u001b[01;31m\u001b[Kwrs\u001b[m\u001b[K_rtp_tls_data_filesize\n",
      "0000000000000009 A ___\u001b[01;31m\u001b[Kwrs\u001b[m\u001b[K_rtp_tls_data_memsize\n",
      "0000000000000009 A __\u001b[01;31m\u001b[Kwrs\u001b[m\u001b[K_rtp_tls_data_memsize\n",
      "0000000000234f88 D ___\u001b[01;31m\u001b[Kwrs\u001b[m\u001b[K_rtp_tls_data_start\n",
      "0000000000234f88 D __\u001b[01;31m\u001b[Kwrs\u001b[m\u001b[K_rtp_tls_data_start\n",
      "0000000000229178 t __\u001b[01;31m\u001b[Kwrs\u001b[m\u001b[K_text_end\n",
      "0000000000200170 t __\u001b[01;31m\u001b[Kwrs\u001b[m\u001b[K_text_start\n"
     ]
    }
   ],
   "source": [
    "wr-nm hello | grep wrs"
   ]
  },
  {
   "cell_type": "markdown",
   "metadata": {},
   "source": [
    "Where can we can run it? We can still run it on our development PC but we need a QEMU for it because we need to run VxWorks kernel first. We pass \n",
    "* -kernel $WIND_SDK_TOOLKIT/../bsps/itl_generic_2_0_2_1/boot/vxWorks\n",
    "\n",
    "and we mount our current directory as a USB device, because we do not want to create a target filesystem\n",
    "* -usb -device usb-ehci,id=ehci  -device usb-storage,drive=fat32 -drive file=fat:ro:./,id=fat32,format=raw,if=none"
   ]
  },
  {
   "cell_type": "code",
   "execution_count": null,
   "metadata": {},
   "outputs": [
    {
     "name": "stdout",
     "output_type": "stream",
     "text": [
      "qemu-system-x86_64: warning: hub 0 is not connected to host network\n",
      "Instantiating /ram0 as rawFs,  device = 0x1\n",
      "Target Name: vxTarget \n",
      "Instantiating /tmp as rawFs,  device = 0x10001\n",
      "\n",
      "\n",
      "              VxWorks 7 SMP 64-bit\n",
      "\n",
      "Copyright 1984-2020 Wind River Systems, Inc.\n",
      "\n",
      "     Core Kernel version: 3.1.2.1\n",
      "              Build date: Apr 21 2020 09:27:38\n",
      "                   Board: x86 Processor (ACPI_BOOT_OP) SMP/SMT\n",
      "               CPU Count: 1\n",
      "          OS Memory Size: ~446MB\n",
      "        ED&R Policy Mode: Deployed\n",
      "     Debug Agent: Started (always)\n",
      "\n",
      "Instantiating /ram as rawFs,  device = 0x20001\n",
      "Formatting /ram for DOSFS\n",
      "Instantiating /ram as rawFs, device = 0x20001\n",
      "Formatting...Retrieved old volume params with %38 confidence:\n",
      "Volume Parameters: FAT type: FAT32, sectors per cluster 0\n",
      "  0 FAT copies, 0 clusters, 0 sectors per FAT\n",
      "  Sectors reserved 0, hidden 0, FAT sectors 0\n",
      "  Root dir entries 0, sysId (null)  , serial number 100000\n",
      "  Label:\"           \" ...\n",
      "Disk with 64 sectors of 512 bytes will be formatted with:\n",
      "Volume Parameters: FAT type: FAT12, sectors per cluster 1\n",
      "  2 FAT copies, 54 clusters, 1 sectors per FAT\n",
      "  Sectors reserved 1, hidden 0, FAT sectors 2\n",
      "  Root dir entries 112, sysId VXDOS12 , serial number 100000\n",
      "  Label:\"           \" ...\n",
      "OK.\n",
      "\n",
      " Adding 14058 symbols for standalone.\n",
      "\n"
     ]
    }
   ],
   "source": [
    "qemu-system-x86_64 -m 512M  -kernel $WIND_SDK_TOOLKIT/../bsps/itl_generic_2_0_2_1/boot/vxWorks -net nic -display none -serial stdio -monitor none -append \"bootline:fs(0,0)host:vxWorks h=192.168.200.254 e=192.168.200.1 u=target pw=boot o=gei0\" -usb -device usb-ehci,id=ehci  -device usb-storage,drive=fat32 -drive file=fat:rw:./,id=fat32,format=raw,if=none"
   ]
  },
  {
   "cell_type": "markdown",
   "metadata": {},
   "source": [
    "```bash\n",
    "Instantiating /ram0 as rawFs,  device = 0x1\n",
    "Target Name: vxTarget\n",
    "Instantiating /tmp as rawFs,  device = 0x10001\n",
    "\n",
    "\n",
    "              VxWorks 7 SMP 64-bit\n",
    "\n",
    "Copyright 1984-2020 Wind River Systems, Inc.\n",
    "\n",
    "     Core Kernel version: 3.1.2.1\n",
    "              Build date: Apr 21 2020 09:27:38\n",
    "                   Board: x86 Processor (ACPI_BOOT_OP) SMP/SMT\n",
    "               CPU Count: 1\n",
    "          OS Memory Size: ~446MB\n",
    "        ED&R Policy Mode: Deployed\n",
    "     Debug Agent: Started (always)\n",
    "\n",
    "Instantiating /ram as rawFs,  device = 0x20001\n",
    "Formatting /ram for DOSFS\n",
    "Instantiating /ram as rawFs, device = 0x20001\n",
    "Formatting...Retrieved old volume params with %38 confidence:\n",
    "Volume Parameters: FAT type: FAT32, sectors per cluster 0\n",
    "  0 FAT copies, 0 clusters, 0 sectors per FAT\n",
    "  Sectors reserved 0, hidden 0, FAT sectors 0\n",
    "  Root dir entries 0, sysId (null)  , serial number 100000\n",
    "  Label:\"           \" ...\n",
    "Disk with 64 sectors of 512 bytes will be formatted with:\n",
    "Volume Parameters: FAT type: FAT12, sectors per cluster 1\n",
    "  2 FAT copies, 54 clusters, 1 sectors per FAT\n",
    "  Sectors reserved 1, hidden 0, FAT sectors 2\n",
    "  Root dir entries 112, sysId VXDOS12 , serial number 100000\n",
    "  Label:\"           \" ...\n",
    "OK.\n",
    "\n",
    " Adding 14058 symbols for standalone.\n",
    "\n",
    "->\n",
    "```"
   ]
  },
  {
   "cell_type": "markdown",
   "metadata": {},
   "source": [
    "after VxWorks boots we start a 'bash' like interpreter by typing **cmd**"
   ]
  },
  {
   "cell_type": "code",
   "execution_count": null,
   "metadata": {},
   "outputs": [],
   "source": [
    "cmd"
   ]
  },
  {
   "cell_type": "markdown",
   "metadata": {},
   "source": [
    "Type **devs** to see where the USB is mounted, it is **bd0a**, block device 0a"
   ]
  },
  {
   "cell_type": "markdown",
   "metadata": {},
   "source": [
    "```bash\n",
    "[vxWorks *]# devs\n",
    "drv refs name\n",
    "  1 [ 3] /\n",
    "  2 [ 3] /bd0:1  ==>  /bd0a\n",
    "  5 [ 3] /bd0a\n",
    "  2 [ 3] /bin  ==>  /romfs/sysroot/bin\n",
    "  2 [ 3] /boot  ==>  /romfs/sysroot/boot\n",
    "  2 [ 3] /dev  ==>  /\n",
    "  2 [ 3] /etc  ==>  /romfs/sysroot/etc\n",
    " 10 [ 3] /fifos\n",
    " 11 [ 3] /input/event\n",
    "  2 [ 3] /lib  ==>  /romfs/sysroot/lib\n",
    "  0 [ 3] /null\n",
    "  5 [ 3] /ram\n",
    "  6 [ 3] /ram0\n",
    " 13 [ 3] /random\n",
    "  9 [ 3] /romfs\n",
    "  6 [ 3] /tmp\n",
    "  3 [ 3] /ttyS0\n",
    "  2 [ 3] /tyCo/0  ==>  /ttyS0\n",
    " 13 [ 3] /urandom\n",
    "  2 [ 3] /usr  ==>  /romfs/sysroot/usr\n",
    " 12 [ 3] /zero\n",
    " 15 [ 3] host:\n",
    "```"
   ]
  },
  {
   "cell_type": "markdown",
   "metadata": {},
   "source": [
    "We do **cd /bd0a** and **ls** to see our files"
   ]
  },
  {
   "cell_type": "code",
   "execution_count": null,
   "metadata": {},
   "outputs": [],
   "source": [
    "```bash\n",
    "[vxWorks *]# cd /bd0a\n",
    "[vxWorks *]# ls\n",
    "hello.c\n",
    "hello\n",
    "```"
   ]
  },
  {
   "cell_type": "markdown",
   "metadata": {},
   "source": [
    "```bash\n",
    "[vxWorks *]# cat hello.c\n",
    "#include <stdio.h>\n",
    "#include <sys/utsname.h>\n",
    "\n",
    "int main() {\n",
    "        struct utsname data;\n",
    "\n",
    "        /* get name and information about current kernel */\n",
    "        /* sysname[]; - Operating system name (e.g., \"Linux\") */\n",
    "        /* machine[]; - Hardware identifier */\n",
    "\n",
    "        uname(&data);\n",
    "        printf(\"Hello, %s %s\\n\", data.sysname, data.machine);\n",
    "        return 0;\n",
    "}\n",
    "```"
   ]
  },
  {
   "cell_type": "markdown",
   "metadata": {},
   "source": [
    "And then we run **./hello** and see what it prints"
   ]
  },
  {
   "cell_type": "markdown",
   "metadata": {},
   "source": [
    "```bash\n",
    "[vxWorks *]# ./hello\n",
    "Launching process './hello' ...\n",
    "Process './hello' (process Id = 0xffff8000005bde80) launched.\n",
    "Hello, VxWorks 7 x86 Processor (ACPI_BOOT_OP) SMP/SMT\n",
    "```"
   ]
  },
  {
   "cell_type": "markdown",
   "metadata": {},
   "source": [
    "It prints **VxWorks 7** as an OS and **x86 Processor (ACPI_BOOT_OP) SMP/SMT** as a machine"
   ]
  },
  {
   "cell_type": "markdown",
   "metadata": {},
   "source": [
    "## ROS2 distro structure"
   ]
  },
  {
   "cell_type": "markdown",
   "metadata": {},
   "source": [
    "## Setup ROS2 for the cross-compilation"
   ]
  },
  {
   "cell_type": "markdown",
   "metadata": {},
   "source": [
    "## toolchain.cmake and VxWorks.cmake"
   ]
  },
  {
   "cell_type": "markdown",
   "metadata": {},
   "source": [
    "## cross-compile ROS2 "
   ]
  },
  {
   "cell_type": "markdown",
   "metadata": {},
   "source": [
    "## Run ROS2 example using QEMU"
   ]
  },
  {
   "cell_type": "markdown",
   "metadata": {},
   "source": [
    "## Conclusion"
   ]
  }
 ],
 "metadata": {
  "celltoolbar": "Raw Cell Format",
  "kernelspec": {
   "display_name": "Bash",
   "language": "bash",
   "name": "bash"
  },
  "language_info": {
   "codemirror_mode": "shell",
   "file_extension": ".sh",
   "mimetype": "text/x-sh",
   "name": "bash"
  }
 },
 "nbformat": 4,
 "nbformat_minor": 1
}
